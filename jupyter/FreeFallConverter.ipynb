{
  "nbformat": 4,
  "nbformat_minor": 0,
  "metadata": {
    "colab": {
      "provenance": [],
      "authorship_tag": "ABX9TyMwmzzYjWc5PXnVeKtPPGqF",
      "include_colab_link": true
    },
    "kernelspec": {
      "name": "python3",
      "display_name": "Python 3"
    },
    "language_info": {
      "name": "python"
    }
  },
  "cells": [
    {
      "cell_type": "markdown",
      "metadata": {
        "id": "view-in-github",
        "colab_type": "text"
      },
      "source": [
        "<a href=\"https://colab.research.google.com/github/YinkaOlu/MachineLearningRepo/blob/main/jupyter/FreeFallConverter.ipynb\" target=\"_parent\"><img src=\"https://colab.research.google.com/assets/colab-badge.svg\" alt=\"Open In Colab\"/></a>"
      ]
    },
    {
      "cell_type": "markdown",
      "source": [
        "# Freefall Final Velocity Predictor\n",
        "\n",
        "### Using Tensorflow to predict final velocity speed of a free fall"
      ],
      "metadata": {
        "id": "U5vahwnlM_-e"
      }
    },
    {
      "cell_type": "markdown",
      "source": [
        "Initial step is to import the necessary libraries to build the regression model. This includes importing Tensorflow and numpy"
      ],
      "metadata": {
        "id": "Ppo-mSedW8uo"
      }
    },
    {
      "cell_type": "code",
      "source": [
        "import tensorflow as tf\n",
        "import numpy as np"
      ],
      "metadata": {
        "id": "V9VcBvFdXNp-"
      },
      "execution_count": 1,
      "outputs": []
    },
    {
      "cell_type": "markdown",
      "source": [
        "The following steps involve creating the training data that will be used to train the regression model. We already know the formula for freefall final speed: Final velocity = (gravitational acceleration) * (fall duration) + initial speed. Using this formula we can populate some training data. Our input will be a Duple representing initial velocity and fall duration. Output will be final velocity. It will be up to our model to determine the gravitational accelration."
      ],
      "metadata": {
        "id": "WCAid1qvXPzq"
      }
    },
    {
      "cell_type": "code",
      "source": [
        "input = np.array([[0, 1], [35, 5], [60, 6], [100, 10], [155, 5], [220, 20], [750, 50], [925, 25]], dtype=float)\n",
        "output = np.array([9.807, 84.03, 118.84, 198.07, 204.03, 416.1, 1240.3, 1170.2], dtype=float)"
      ],
      "metadata": {
        "id": "5qFxh_xWJSX0"
      },
      "execution_count": 2,
      "outputs": []
    },
    {
      "cell_type": "markdown",
      "source": [
        "Now that we have the training data, the model construction starts. The initial layer of the model will be a dense layer. The input shape will be 2 (to represent the 2 data points, initial speed and fall duration)."
      ],
      "metadata": {
        "id": "my7AUOG5bAtu"
      }
    },
    {
      "cell_type": "code",
      "source": [
        "layer_1 = tf.keras.layers.Dense(units=1, input_shape=[2])\n",
        "\n",
        "model = tf.keras.Sequential([layer_1])\n",
        "\n",
        "model.compile(loss='mean_squared_error', optimizer=tf.keras.optimizers.Adam(0.9))"
      ],
      "metadata": {
        "id": "R35q_1mKa-e8"
      },
      "execution_count": 3,
      "outputs": []
    },
    {
      "cell_type": "markdown",
      "source": [
        "Now we train/fit our model with the training data above calculated values above."
      ],
      "metadata": {
        "id": "ZA6fQ5BUbxXB"
      }
    },
    {
      "cell_type": "code",
      "source": [
        "history = model.fit(input, output, epochs=500, verbose=False)"
      ],
      "metadata": {
        "id": "DTS10MasbwTJ"
      },
      "execution_count": 4,
      "outputs": []
    },
    {
      "cell_type": "code",
      "source": [
        "import matplotlib.pyplot as plt\n",
        "\n",
        "plt.xlabel('Epoch Number')\n",
        "plt.ylabel(\"Loss Magnitude\")\n",
        "plt.plot(history.history['loss'])"
      ],
      "metadata": {
        "colab": {
          "base_uri": "https://localhost:8080/",
          "height": 297
        },
        "id": "aMBC6AZvK-5S",
        "outputId": "b4d41d79-7ff9-4620-fb19-c7efb5567a8a"
      },
      "execution_count": 5,
      "outputs": [
        {
          "output_type": "execute_result",
          "data": {
            "text/plain": [
              "[<matplotlib.lines.Line2D at 0x7f4092de9e50>]"
            ]
          },
          "metadata": {},
          "execution_count": 5
        },
        {
          "output_type": "display_data",
          "data": {
            "text/plain": [
              "<Figure size 432x288 with 1 Axes>"
            ],
            "image/png": "[encoded data removed]"
          },
          "metadata": {
            "needs_background": "light"
          }
        }
      ]
    },
    {
      "cell_type": "code",
      "source": [
        "prediction = model.predict([[10,1]])\n",
        "print(prediction)\n",
        "\n",
        "print(\"These are the layer variables: {}\".format(layer_1.get_weights()))"
      ],
      "metadata": {
        "colab": {
          "base_uri": "https://localhost:8080/"
        },
        "id": "fH3xS-uDLGJP",
        "outputId": "ac314bf8-e2e3-4ab8-b0fe-d46cc1faffea"
      },
      "execution_count": 6,
      "outputs": [
        {
          "output_type": "stream",
          "name": "stdout",
          "text": [
            "1/1 [==============================] - 0s 89ms/step\n",
            "[[19.819284]]\n",
            "These are the layer variables: [array([[1.000091],\n",
            "       [9.804131]], dtype=float32), array([0.01424461], dtype=float32)]\n"
          ]
        }
      ]
    },
    {
      "cell_type": "markdown",
      "source": [
        "The above prediction matches the expected value. The weight also matches the gravitational acceleration of earth, which is also expected.\n",
        "\n",
        "---\n",
        "\n"
      ],
      "metadata": {
        "id": "dynepazKmauT"
      }
    }
  ]
}