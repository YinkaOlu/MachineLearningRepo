{
  "nbformat": 4,
  "nbformat_minor": 0,
  "metadata": {
    "colab": {
      "provenance": [],
      "authorship_tag": "ABX9TyMW4+LXlTLV6cN6+KmSE1oT",
      "include_colab_link": true
    },
    "kernelspec": {
      "name": "python3",
      "display_name": "Python 3"
    },
    "language_info": {
      "name": "python"
    }
  },
  "cells": [
    {
      "cell_type": "markdown",
      "metadata": {
        "id": "view-in-github",
        "colab_type": "text"
      },
      "source": [
        "<a href=\"https://colab.research.google.com/github/YinkaOlu/MachineLearningRepo/blob/main/Kilograms_to_pounds_Linear_regression.ipynb\" target=\"_parent\"><img src=\"https://colab.research.google.com/assets/colab-badge.svg\" alt=\"Open In Colab\"/></a>"
      ]
    },
    {
      "cell_type": "markdown",
      "source": [
        "# Purpose\n",
        "\n",
        "The goal of this project is to recreate the formula to convert pounds to kilograms using a linear regression model built with tensorflow.\n"
      ],
      "metadata": {
        "id": "SA_-uTHCr4KZ"
      }
    },
    {
      "cell_type": "markdown",
      "source": [
        "First step, import required packages"
      ],
      "metadata": {
        "id": "Ox2LtZPst3_K"
      }
    },
    {
      "cell_type": "code",
      "source": [
        "import tensorflow as tf\n",
        "import numpy as np\n",
        "import logging\n",
        "logger = tf.get_logger()\n",
        "logger.setLevel(logging.ERROR)"
      ],
      "metadata": {
        "id": "ctzCPHyctfIo"
      },
      "execution_count": 10,
      "outputs": []
    },
    {
      "cell_type": "markdown",
      "source": [
        "Secondly, set up the training data"
      ],
      "metadata": {
        "id": "RbNjzd8MuCaV"
      }
    },
    {
      "cell_type": "code",
      "source": [
        "pounds_input = np.array([10, 35, 60, 100, 157, 220, 750, 925], dtype=float)\n",
        "kilogram_output = np.array([4.54, 15.88, 27.22, 45.36, 71.21, 99.79, 340.2, 419.57], dtype=float)"
      ],
      "metadata": {
        "id": "ZGlJG9RUuH4L"
      },
      "execution_count": 11,
      "outputs": []
    },
    {
      "cell_type": "markdown",
      "source": [
        "Thirdly, the model layer will be created"
      ],
      "metadata": {
        "id": "Z43hm0DavPLt"
      }
    },
    {
      "cell_type": "code",
      "source": [
        "layer_1 = tf.keras.layers.Dense(units=1, input_shape=[1])\n",
        "pounds_to_kilo_model = tf.keras.Sequential([layer_1])\n",
        "\n",
        "pounds_to_kilo_model.compile(loss='mean_squared_error', optimizer=tf.keras.optimizers.Adam(0.1))"
      ],
      "metadata": {
        "id": "T3jAskB7vSrh"
      },
      "execution_count": 12,
      "outputs": []
    },
    {
      "cell_type": "markdown",
      "source": [
        "Next, the model will be trained with the pounds/kilo training data"
      ],
      "metadata": {
        "id": "FSkNzp14wX1D"
      }
    },
    {
      "cell_type": "code",
      "source": [
        "history = pounds_to_kilo_model.fit(pounds_input, kilogram_output, epochs=500, verbose=False)"
      ],
      "metadata": {
        "id": "v6Jjt7gCwdgX"
      },
      "execution_count": 18,
      "outputs": []
    },
    {
      "cell_type": "markdown",
      "source": [
        "The training history will be displayed here"
      ],
      "metadata": {
        "id": "to5LrdZgwusB"
      }
    },
    {
      "cell_type": "code",
      "source": [
        "import matplotlib.pyplot as plt\n",
        "\n",
        "plt.xlabel('Epoch Number')\n",
        "plt.ylabel(\"Loss Magnitude\")\n",
        "plt.plot(history.history['loss'])"
      ],
      "metadata": {
        "colab": {
          "base_uri": "https://localhost:8080/",
          "height": 308
        },
        "id": "moeMfSWrwyx8",
        "outputId": "6d355f4a-43f7-4ffb-eefb-4e55701ebaca"
      },
      "execution_count": 19,
      "outputs": [
        {
          "output_type": "execute_result",
          "data": {
            "text/plain": [
              "[<matplotlib.lines.Line2D at 0x7f7819a96d00>]"
            ]
          },
          "metadata": {},
          "execution_count": 19
        },
        {
          "output_type": "display_data",
          "data": {
            "text/plain": [
              "<Figure size 432x288 with 1 Axes>"
            ],
            "image/png": "[encoded data removed]"
          },
          "metadata": {
            "needs_background": "light"
          }
        }
      ]
    },
    {
      "cell_type": "markdown",
      "source": [
        "Now that the model has been trained, let's make a few test predictions. The following test pounds are 175, 300, 895. Using the standard conversion formula for pounds to kilograms, the result should be 79.38, 136.08, 405.97."
      ],
      "metadata": {
        "id": "8UnP4jNVxA5s"
      }
    },
    {
      "cell_type": "code",
      "source": [
        "kilogram_prediction = pounds_to_kilo_model.predict([175, 300, 895])\n",
        "print(kilogram_prediction)"
      ],
      "metadata": {
        "colab": {
          "base_uri": "https://localhost:8080/"
        },
        "id": "plRE-dKvxFHs",
        "outputId": "0ba33cc5-1249-4d4b-8058-64c430b61a8b"
      },
      "execution_count": 20,
      "outputs": [
        {
          "output_type": "stream",
          "name": "stdout",
          "text": [
            "1/1 [==============================] - 0s 37ms/step\n",
            "[[ 79.380424]\n",
            " [136.0792  ]\n",
            " [405.96533 ]]\n"
          ]
        }
      ]
    },
    {
      "cell_type": "code",
      "source": [
        "print(\"These are the layer variables: {}\".format(layer_1.get_weights()))"
      ],
      "metadata": {
        "colab": {
          "base_uri": "https://localhost:8080/"
        },
        "id": "qyCcbgqzCBnM",
        "outputId": "a5a56f8d-cb54-4b36-d249-5883b3060d6e"
      },
      "execution_count": 22,
      "outputs": [
        {
          "output_type": "stream",
          "name": "stdout",
          "text": [
            "These are the layer variables: [array([[0.45359015]], dtype=float32), array([0.00214577], dtype=float32)]\n"
          ]
        }
      ]
    },
    {
      "cell_type": "markdown",
      "source": [
        "The expected results compared to the predictions are very close. The first variable, is 0.45359. The standard equation to convert pounds to kilos is to multiply pounds by 0.45359 (kilograms = 0.45359(pounds)). The resulting weight matches the variable."
      ],
      "metadata": {
        "id": "4LcuH66pBzy-"
      }
    }
  ]
}